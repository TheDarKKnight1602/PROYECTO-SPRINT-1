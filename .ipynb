{
 "cells": [
  {
   "cell_type": "code",
   "execution_count": 3,
   "id": "5c90c924",
   "metadata": {},
   "outputs": [
    {
     "name": "stdout",
     "output_type": "stream",
     "text": [
      "mike reed\n",
      "['mike', 'reed']\n",
      "32\n",
      "Please provide your age as a numerical value.\n",
      "[['31980', 'kate morgan', 24.0, ['CLOTHES', 'BOOKS'], [439, 390]], ['32156', ' john doe ', 37.0, ['ELECTRONICS', 'HOME', 'FOOD'], [459, 120, 99]], ['32415', ' mike_reed ', 32.0, ['ELECTRONICS', 'SPORT', 'BOOKS'], [894, 213, 173]], ['32761', 'SAMANTHA SMITH', 29.0, ['CLOTHES', 'ELECTRONICS', 'BEAUTY'], [299, 679, 85]], ['32984', 'David White', 41.0, ['BOOKS', 'HOME', 'SPORT'], [234, 329, 243]], ['33001', 'emily brown', 26.0, ['BEAUTY', 'HOME', 'FOOD'], [213, 659, 79]], ['33767', ' Maria Garcia', 33.0, ['CLOTHES', 'FOOD', 'BEAUTY'], [499, 189, 63]], ['33912', 'JOSE MARTINEZ', 22.0, ['SPORT', 'ELECTRONICS', 'HOME'], [259, 549, 109]], ['34009', 'lisa wilson ', 35.0, ['HOME', 'BOOKS', 'CLOTHES'], [329, 189, 329]], ['34278', 'James Lee', 28.0, ['BEAUTY', 'CLOTHES', 'ELECTRONICS'], [189, 299, 579]]]\n",
      "1280\n",
      "User 32415 is mike who is 32 years old.\n",
      "Hemos registrado datos de 10 clientes.\n"
     ]
    }
   ],
   "source": [
    "# Paso 0: Datos iniciales\n",
    "users = [\n",
    "    ['32415', ' mike_reed ', 32.0, ['ELECTRONICS', 'SPORT', 'BOOKS'], [894, 213, 173]],\n",
    "    ['31980', 'kate morgan', 24.0, ['CLOTHES', 'BOOKS'], [439, 390]],\n",
    "    ['32156', ' john doe ', 37.0, ['ELECTRONICS', 'HOME', 'FOOD'], [459, 120, 99]],\n",
    "    ['32761', 'SAMANTHA SMITH', 29.0, ['CLOTHES', 'ELECTRONICS', 'BEAUTY'], [299, 679, 85]],\n",
    "    ['32984', 'David White', 41.0, ['BOOKS', 'HOME', 'SPORT'], [234, 329, 243]],\n",
    "    ['33001', 'emily brown', 26.0, ['BEAUTY', 'HOME', 'FOOD'], [213, 659, 79]],\n",
    "    ['33767', ' Maria Garcia', 33.0, ['CLOTHES', 'FOOD', 'BEAUTY'], [499, 189, 63]],\n",
    "    ['33912', 'JOSE MARTINEZ', 22.0, ['SPORT', 'ELECTRONICS', 'HOME'], [259, 549, 109]],\n",
    "    ['34009', 'lisa wilson ', 35.0, ['HOME', 'BOOKS', 'CLOTHES'], [329, 189, 329]],\n",
    "    ['34278', 'James Lee', 28.0, ['BEAUTY', 'CLOTHES', 'ELECTRONICS'], [189, 299, 579]],\n",
    "]\n",
    "\n",
    "# Paso 1: Evaluación de datos de un usuario específico\n",
    "user_id = '32415'\n",
    "user_name = ' mike_reed '\n",
    "user_age = 32.0\n",
    "fav_categories = ['ELECTRONICS', 'SPORT', 'BOOKS']\n",
    "\n",
    "# Paso 2: Limpieza del nombre del usuario\n",
    "user_name = user_name.strip()\n",
    "user_name = user_name.replace('_', ' ')\n",
    "print(user_name)\n",
    "\n",
    "# Paso 3: División del nombre\n",
    "user_name = 'mike reed'\n",
    "name_split = user_name.split()\n",
    "print(name_split)\n",
    "\n",
    "# Paso 4: Conversión de tipo de dato de edad\n",
    "user_age = 32.0\n",
    "user_age = int(user_age)\n",
    "print(user_age)\n",
    "\n",
    "# Paso 5: Conversión con manejo de errores\n",
    "user_age = 'treinta y dos'\n",
    "try:\n",
    "    user_age_int = int(user_age)\n",
    "except ValueError:\n",
    "    print(\"Please provide your age as a numerical value.\")\n",
    "\n",
    "# Paso 6: Ordenar usuarios por ID ascendente\n",
    "users.sort(key=lambda x: int(x[0]))\n",
    "print(users)\n",
    "\n",
    "# Paso 7: Cálculo de gasto total por usuario\n",
    "spendings_per_category = [894, 213, 173]\n",
    "total_amount = sum(spendings_per_category)\n",
    "print(total_amount)\n",
    "\n",
    "# Paso 8: Cadena formateada con información del usuario\n",
    "user_id = '32415'\n",
    "user_name = ['mike', 'reed']\n",
    "user_age = 32\n",
    "user_info = f\"User {user_id} is {user_name[0]} who is {user_age} years old.\"\n",
    "print(user_info)\n",
    "\n",
    "# Paso 9: Mostrar número de usuarios\n",
    "user_count = len(users)\n",
    "print(f\"Hemos registrado datos de {user_count} clientes.\")\n"
   ]
  },
  {
   "cell_type": "code",
   "execution_count": null,
   "id": "f459f901",
   "metadata": {},
   "outputs": [],
   "source": []
  }
 ],
 "metadata": {
  "kernelspec": {
   "display_name": "Python 3",
   "language": "python",
   "name": "python3"
  },
  "language_info": {
   "codemirror_mode": {
    "name": "ipython",
    "version": 3
   },
   "file_extension": ".py",
   "mimetype": "text/x-python",
   "name": "python",
   "nbconvert_exporter": "python",
   "pygments_lexer": "ipython3",
   "version": "3.13.3"
  }
 },
 "nbformat": 4,
 "nbformat_minor": 5
}
